{
 "cells": [
  {
   "cell_type": "code",
   "execution_count": null,
   "metadata": {},
   "outputs": [],
   "source": [
    "%matplotlib inline\n",
    "%load_ext autoreload\n",
    "%autoreload 2\n",
    "\n",
    "import matplotlib.pyplot as plt\n",
    "import numpy as np\n",
    "import pandas as pd\n",
    "import seaborn as sns\n",
    "sns.set_style('white')"
   ]
  },
  {
   "cell_type": "code",
   "execution_count": null,
   "metadata": {},
   "outputs": [],
   "source": [
    "import scanpy.api as sc"
   ]
  },
  {
   "cell_type": "markdown",
   "metadata": {},
   "source": [
    "# Examing Batch Effects In CAOV3 Data With PCA\n",
    "\n",
    "This notebook iterates through each of the 6 cell populations in the Oncogx Lab's platinum resistance experiment and for each population combines the two batches and plots the cells in principal component space in which pairing of cells and batch effect can be observed."
   ]
  },
  {
   "cell_type": "code",
   "execution_count": null,
   "metadata": {},
   "outputs": [],
   "source": [
    "CELL_POPS = [\"CAOV3\", \"PARENT\", \"RES-06\", \"RES-14\", \"SENS-02\", \"SENS-03\"]"
   ]
  },
  {
   "cell_type": "code",
   "execution_count": null,
   "metadata": {},
   "outputs": [],
   "source": [
    "for cp in CELL_POPS:\n",
    "    adata_batch1 = sc.read_10x_mtx(\"./data/harismendy_caov3/170206/\"+cp+\"/\", var_names=\"gene_symbols\")\n",
    "    adata_batch2 = sc.read_10x_mtx(\"./data/harismendy_caov3/170315/\"+cp+\"/\", var_names=\"gene_symbols\")\n",
    "    adata_all = adata_batch1.concatenate(adata_batch2)\n",
    "    sc.tl.pca(adata_all)\n",
    "    fig, ax = plt.subplots(figsize=(5,5))\n",
    "    sc.pl.pca(adata_all, color='batch', show=True, save=False, title=cp, ax=ax)"
   ]
  }
 ],
 "metadata": {
  "kernelspec": {
   "display_name": "Python 3",
   "language": "python",
   "name": "python3"
  },
  "language_info": {
   "codemirror_mode": {
    "name": "ipython",
    "version": 3
   },
   "file_extension": ".py",
   "mimetype": "text/x-python",
   "name": "python",
   "nbconvert_exporter": "python",
   "pygments_lexer": "ipython3",
   "version": "3.6.5"
  }
 },
 "nbformat": 4,
 "nbformat_minor": 2
}
