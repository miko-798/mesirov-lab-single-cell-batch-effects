{
 "cells": [
  {
   "cell_type": "code",
   "execution_count": null,
   "metadata": {},
   "outputs": [],
   "source": [
    "%matplotlib inline\n",
    "%load_ext autoreload\n",
    "%autoreload 2\n",
    "\n",
    "import matplotlib.pyplot as plt\n",
    "import numpy as np\n",
    "import pandas as pd\n",
    "import seaborn as sns\n",
    "sns.set_style('white')"
   ]
  },
  {
   "cell_type": "code",
   "execution_count": null,
   "metadata": {},
   "outputs": [],
   "source": [
    "import warnings\n",
    "warnings.filterwarnings(\"ignore\")\n",
    "import scanpy.api as sc\n",
    "from scanpy.neighbors import Neighbors\n",
    "import scanorama"
   ]
  },
  {
   "cell_type": "markdown",
   "metadata": {},
   "source": [
    "# Evaluating Alignment Score For Batch Correction\n",
    "\n",
    "This notebook evaluates an \"alignment score\" to quantify the effects of batch correction. This notebook uses this metric to measure the performance of the Scanorama algorithm on two batches of Olivier's CAOV3 data with one batch receiving an addition of random gaussian noise."
   ]
  },
  {
   "cell_type": "markdown",
   "metadata": {},
   "source": [
    "# Load Data"
   ]
  },
  {
   "cell_type": "code",
   "execution_count": null,
   "metadata": {},
   "outputs": [],
   "source": [
    "B1 = sc.read_10x_mtx(\"../data/Harismendy_data/170206/CAOV3\", var_names=\"gene_symbols\")"
   ]
  },
  {
   "cell_type": "code",
   "execution_count": null,
   "metadata": {},
   "outputs": [],
   "source": [
    "B2 = sc.read_10x_mtx(\"../data/Harismendy_data/170315/CAOV3\", var_names=\"gene_symbols\")"
   ]
  },
  {
   "cell_type": "markdown",
   "metadata": {},
   "source": [
    "## Downsample For Performance"
   ]
  },
  {
   "cell_type": "code",
   "execution_count": null,
   "metadata": {},
   "outputs": [],
   "source": [
    "def downsample_anndata(ad, n):\n",
    "    rand_obs = np.random.choice(list(ad.obs.index), size=n, replace=False)\n",
    "    return ad[rand_obs,:]"
   ]
  },
  {
   "cell_type": "code",
   "execution_count": null,
   "metadata": {},
   "outputs": [],
   "source": [
    "CAOV3_B1 = downsample_anndata(B1, 500)\n",
    "CAOV3_B2 = downsample_anndata(B2, 500)"
   ]
  },
  {
   "cell_type": "code",
   "execution_count": null,
   "metadata": {
    "scrolled": true
   },
   "outputs": [],
   "source": [
    "CAOV3_B1.shape"
   ]
  },
  {
   "cell_type": "code",
   "execution_count": null,
   "metadata": {},
   "outputs": [],
   "source": [
    "CAOV3_B2.shape"
   ]
  },
  {
   "cell_type": "markdown",
   "metadata": {},
   "source": [
    "# Implement Alignment Score"
   ]
  },
  {
   "cell_type": "code",
   "execution_count": null,
   "metadata": {},
   "outputs": [],
   "source": [
    "INPUT_ANNS = [CAOV3_B1, CAOV3_B2]"
   ]
  },
  {
   "cell_type": "code",
   "execution_count": null,
   "metadata": {},
   "outputs": [],
   "source": [
    "min_cells = min(list(map(lambda x: x.n_obs, INPUT_ANNS)))\n",
    "DS_ANNS = list(map(lambda x: downsample_anndata(x, min_cells), INPUT_ANNS))"
   ]
  },
  {
   "cell_type": "markdown",
   "metadata": {},
   "source": [
    "## Merge Experiments"
   ]
  },
  {
   "cell_type": "code",
   "execution_count": null,
   "metadata": {},
   "outputs": [],
   "source": [
    "COMB_ANN = DS_ANNS[0].concatenate(DS_ANNS[1:], index_unique=\"_\")\n",
    "COMB_ANN.shape"
   ]
  },
  {
   "cell_type": "markdown",
   "metadata": {},
   "source": [
    "## Find Closest 1% Neighbors For All Cells"
   ]
  },
  {
   "cell_type": "code",
   "execution_count": null,
   "metadata": {},
   "outputs": [],
   "source": [
    "n_batch = len(INPUT_ANNS)"
   ]
  },
  {
   "cell_type": "code",
   "execution_count": null,
   "metadata": {},
   "outputs": [],
   "source": [
    "n_neighbors = max(int(0.01*min_cells), 10)\n",
    "n_neighbors"
   ]
  },
  {
   "cell_type": "code",
   "execution_count": null,
   "metadata": {},
   "outputs": [],
   "source": [
    "sc.pp.neighbors(COMB_ANN, n_neighbors=22, knn=True)"
   ]
  },
  {
   "cell_type": "markdown",
   "metadata": {},
   "source": [
    "## Calculate Alignment Score"
   ]
  },
  {
   "cell_type": "code",
   "execution_count": null,
   "metadata": {},
   "outputs": [],
   "source": [
    "rows, cols = COMB_ANN.uns['neighbors']['distances'].nonzero()"
   ]
  },
  {
   "cell_type": "code",
   "execution_count": null,
   "metadata": {},
   "outputs": [],
   "source": [
    "def get_batch(i, adata):\n",
    "    \"\"\"\n",
    "    Returns the batch number of a cell at index i in adata\n",
    "    \"\"\"\n",
    "    return int(adata.obs.index[i].split('_')[1])"
   ]
  },
  {
   "cell_type": "code",
   "execution_count": null,
   "metadata": {},
   "outputs": [],
   "source": [
    "neighbor_counts = {}  #{cell_id: #same_batch}\n",
    "\n",
    "for x, y in zip(rows, cols):\n",
    "    try:\n",
    "        neighbor_counts[x]\n",
    "    except KeyError:\n",
    "        neighbor_counts[x] = 0\n",
    "    cell_batch = get_batch(x, COMB_ANN)\n",
    "    neigh_batch = get_batch(y, COMB_ANN)\n",
    "    if cell_batch == neigh_batch:\n",
    "        neighbor_counts[x] += 1"
   ]
  },
  {
   "cell_type": "code",
   "execution_count": null,
   "metadata": {},
   "outputs": [],
   "source": [
    "(np.mean(list(neighbor_counts.values()))/n_neighbors)*n_batch"
   ]
  },
  {
   "cell_type": "markdown",
   "metadata": {},
   "source": [
    "# Summary Implementation Function\n",
    "\n",
    "This cell defines a single function to run the above analysis given a list of AnnData"
   ]
  },
  {
   "cell_type": "code",
   "execution_count": null,
   "metadata": {},
   "outputs": [],
   "source": [
    "def downsample_anndata(ad, n):\n",
    "    rand_obs = np.random.choice(list(ad.obs.index), size=n, replace=False)\n",
    "    return ad[rand_obs,:]\n",
    "\n",
    "def get_batch(i, adata):\n",
    "    \"\"\"\n",
    "    Returns the batch number of a cell at index i in adata\n",
    "    \"\"\"\n",
    "    return int(adata.obs.index[i].split('_')[1])\n",
    "\n",
    "def score_batch_corr(anns, n_neighbors):\n",
    "    min_cells = min(list(map(lambda x: x.n_obs, anns)))\n",
    "    ds_anns = list(map(lambda x: downsample_anndata(x, min_cells), anns))\n",
    "    comb_ann = ds_anns[0].concatenate(ds_anns[1:], index_unique=\"_\")\n",
    "    sc.tl.pca(comb_ann)\n",
    "    sc.pp.neighbors(comb_ann, n_neighbors=n_neighbors, knn=True)\n",
    "    rows, cols = comb_ann.uns['neighbors']['distances'].nonzero()\n",
    "    neighbor_counts = {}  #{cell_id: #same_batch}\n",
    "    for x, y in zip(rows, cols):\n",
    "        try:\n",
    "            neighbor_counts[x]\n",
    "        except KeyError:\n",
    "            neighbor_counts[x] = 0\n",
    "        cell_batch = get_batch(x, comb_ann)\n",
    "        neigh_batch = get_batch(y, comb_ann)\n",
    "        if cell_batch != neigh_batch:\n",
    "            neighbor_counts[x] += 1\n",
    "    sc.pl.pca(comb_ann, color='batch', show=True, save=False)\n",
    "    return (np.mean(list(neighbor_counts.values()))/n_neighbors)*len(anns)"
   ]
  },
  {
   "cell_type": "code",
   "execution_count": null,
   "metadata": {},
   "outputs": [],
   "source": [
    "N_NEIGHBORS = int(0.01*CAOV3_B1.shape[0])\n",
    "N_NEIGHBORS = 10"
   ]
  },
  {
   "cell_type": "code",
   "execution_count": null,
   "metadata": {},
   "outputs": [],
   "source": [
    "score_batch_corr([CAOV3_B1, CAOV3_B2], N_NEIGHBORS)"
   ]
  },
  {
   "cell_type": "markdown",
   "metadata": {},
   "source": [
    "# Add Random Gaussian Noise To Olivier's Data"
   ]
  },
  {
   "cell_type": "code",
   "execution_count": null,
   "metadata": {},
   "outputs": [],
   "source": [
    "CAOV3_B2_GAUSS = CAOV3_B2.copy()\n",
    "rows, cols = CAOV3_B2_GAUSS.X.nonzero()\n",
    "count = 0\n",
    "for x, y in zip(rows, cols):\n",
    "    #if np.random.rand() < 0.8:\n",
    "    #    count += 1\n",
    "    #    continue\n",
    "    CAOV3_B2_GAUSS.X[x, y] += np.random.normal(loc=50, scale=100)\n",
    "    count += 1\n",
    "    if count%100000 == 0:\n",
    "        print(float(count)/len(rows)*100)\n",
    "#del CAOV3_B2"
   ]
  },
  {
   "cell_type": "code",
   "execution_count": null,
   "metadata": {},
   "outputs": [],
   "source": [
    "score_batch_corr([CAOV3_B1, CAOV3_B2_GAUSS], N_NEIGHBORS)"
   ]
  },
  {
   "cell_type": "markdown",
   "metadata": {},
   "source": [
    "# Correct Data With Scanorama"
   ]
  },
  {
   "cell_type": "code",
   "execution_count": null,
   "metadata": {},
   "outputs": [],
   "source": [
    "CAOV3_B1_CORR, CAOV3_B2_GAUSS_CORR = scanorama.correct_scanpy([CAOV3_B1, CAOV3_B2_GAUSS])\n",
    "score_batch_corr([CAOV3_B1_CORR, CAOV3_B2_GAUSS_CORR], N_NEIGHBORS)"
   ]
  },
  {
   "cell_type": "code",
   "execution_count": null,
   "metadata": {},
   "outputs": [],
   "source": []
  }
 ],
 "metadata": {
  "kernelspec": {
   "display_name": "Python 3.6",
   "language": "python",
   "name": "python3.6"
  },
  "language_info": {
   "codemirror_mode": {
    "name": "ipython",
    "version": 3
   },
   "file_extension": ".py",
   "mimetype": "text/x-python",
   "name": "python",
   "nbconvert_exporter": "python",
   "pygments_lexer": "ipython3",
   "version": "3.6.8"
  }
 },
 "nbformat": 4,
 "nbformat_minor": 2
}
