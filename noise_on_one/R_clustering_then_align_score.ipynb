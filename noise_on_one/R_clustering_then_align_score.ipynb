{
 "cells": [
  {
   "cell_type": "code",
   "execution_count": 1,
   "metadata": {},
   "outputs": [],
   "source": [
    "%matplotlib inline\n",
    "%load_ext autoreload\n",
    "%autoreload 2\n",
    "\n",
    "import matplotlib.pyplot as plt\n",
    "import numpy as np\n",
    "import pandas as pd\n",
    "import seaborn as sns\n",
    "sns.set_style('white')"
   ]
  },
  {
   "cell_type": "code",
   "execution_count": 2,
   "metadata": {},
   "outputs": [],
   "source": [
    "import warnings\n",
    "warnings.filterwarnings(\"ignore\")\n",
    "import scanpy.api as sc\n",
    "from scanpy.neighbors import Neighbors\n",
    "import scanorama"
   ]
  },
  {
   "cell_type": "markdown",
   "metadata": {},
   "source": [
    "# Evaluating Alignment Score For Batch Correction\n",
    "\n",
    "This notebook evaluates an \"alignment score\" to quantify the effects of batch correction. This notebook uses this metric to measure the performance of the Scanorama algorithm on two batches of Olivier's CAOV3 data with one batch receiving an addition of random gaussian noise."
   ]
  },
  {
   "cell_type": "markdown",
   "metadata": {},
   "source": [
    "# Load Data"
   ]
  },
  {
   "cell_type": "code",
   "execution_count": 3,
   "metadata": {},
   "outputs": [],
   "source": [
    "SENS03_B1 = sc.read_10x_mtx(\"../data/Harismendy_data/170206/SENS03\", var_names=\"gene_symbols\")\n",
    "SENS03_B2 = sc.read_10x_mtx(\"../data/Harismendy_data/170315/SENS03\", var_names=\"gene_symbols\")"
   ]
  },
  {
   "cell_type": "markdown",
   "metadata": {},
   "source": [
    "## Downsample For Performance"
   ]
  },
  {
   "cell_type": "code",
   "execution_count": 4,
   "metadata": {},
   "outputs": [],
   "source": [
    "def downsample_anndata(ad, n):\n",
    "    rand_obs = np.random.choice(list(ad.obs.index), size=n, replace=False)\n",
    "    return ad[rand_obs,:]"
   ]
  },
  {
   "cell_type": "code",
   "execution_count": 5,
   "metadata": {},
   "outputs": [
    {
     "data": {
      "text/plain": [
       "anndata.base.AnnData"
      ]
     },
     "execution_count": 5,
     "metadata": {},
     "output_type": "execute_result"
    }
   ],
   "source": [
    "type(SENS03_B1)"
   ]
  },
  {
   "cell_type": "code",
   "execution_count": 6,
   "metadata": {},
   "outputs": [],
   "source": [
    "SENS03_B1 = downsample_anndata(SENS03_B1, 500)\n",
    "SENS03_B2 = downsample_anndata(SENS03_B2, 500)"
   ]
  },
  {
   "cell_type": "code",
   "execution_count": 7,
   "metadata": {
    "scrolled": true
   },
   "outputs": [
    {
     "data": {
      "text/plain": [
       "(500, 33694)"
      ]
     },
     "execution_count": 7,
     "metadata": {},
     "output_type": "execute_result"
    }
   ],
   "source": [
    "SENS03_B1.shape"
   ]
  },
  {
   "cell_type": "code",
   "execution_count": 8,
   "metadata": {},
   "outputs": [
    {
     "data": {
      "text/plain": [
       "(500, 33694)"
      ]
     },
     "execution_count": 8,
     "metadata": {},
     "output_type": "execute_result"
    }
   ],
   "source": [
    "SENS03_B1.shape"
   ]
  },
  {
   "cell_type": "markdown",
   "metadata": {},
   "source": [
    "# Implement Alignment Score"
   ]
  },
  {
   "cell_type": "code",
   "execution_count": 9,
   "metadata": {},
   "outputs": [],
   "source": [
    "INPUT_ANNS = [SENS03_B1, SENS03_B1]"
   ]
  },
  {
   "cell_type": "code",
   "execution_count": 10,
   "metadata": {},
   "outputs": [],
   "source": [
    "min_cells = min(list(map(lambda x: x.n_obs, INPUT_ANNS)))\n",
    "DS_ANNS = list(map(lambda x: downsample_anndata(x, min_cells), INPUT_ANNS))"
   ]
  },
  {
   "cell_type": "markdown",
   "metadata": {},
   "source": [
    "## Merge Experiments"
   ]
  },
  {
   "cell_type": "code",
   "execution_count": 11,
   "metadata": {},
   "outputs": [
    {
     "data": {
      "text/plain": [
       "(1000, 33694)"
      ]
     },
     "execution_count": 11,
     "metadata": {},
     "output_type": "execute_result"
    }
   ],
   "source": [
    "COMB_ANN = DS_ANNS[0].concatenate(DS_ANNS[1:], index_unique=\"_\")\n",
    "COMB_ANN.shape"
   ]
  },
  {
   "cell_type": "markdown",
   "metadata": {},
   "source": [
    "## Find Closest 1% Neighbors For All Cells"
   ]
  },
  {
   "cell_type": "code",
   "execution_count": 12,
   "metadata": {},
   "outputs": [],
   "source": [
    "n_batch = len(INPUT_ANNS)"
   ]
  },
  {
   "cell_type": "code",
   "execution_count": 13,
   "metadata": {},
   "outputs": [
    {
     "data": {
      "text/plain": [
       "10"
      ]
     },
     "execution_count": 13,
     "metadata": {},
     "output_type": "execute_result"
    }
   ],
   "source": [
    "n_neighbors = max(int(0.01*min_cells), 10)\n",
    "n_neighbors"
   ]
  },
  {
   "cell_type": "code",
   "execution_count": 14,
   "metadata": {},
   "outputs": [
    {
     "name": "stdout",
     "output_type": "stream",
     "text": [
      "WARNING: You're trying to run this on 33694 dimensions of `.X`, if you really want this, set `use_rep='X'`.\n",
      "         Falling back to preprocessing with `sc.pp.pca` and default params.\n"
     ]
    }
   ],
   "source": [
    "sc.pp.neighbors(COMB_ANN, n_neighbors=22, knn=True)"
   ]
  },
  {
   "cell_type": "markdown",
   "metadata": {},
   "source": [
    "## Calculate Alignment Score"
   ]
  },
  {
   "cell_type": "code",
   "execution_count": 15,
   "metadata": {},
   "outputs": [],
   "source": [
    "rows, cols = COMB_ANN.uns['neighbors']['distances'].nonzero()"
   ]
  },
  {
   "cell_type": "code",
   "execution_count": 26,
   "metadata": {},
   "outputs": [
    {
     "data": {
      "text/plain": [
       "{'params': {'n_neighbors': 22, 'method': 'umap'},\n",
       " 'distances': <1000x1000 sparse matrix of type '<class 'numpy.float64'>'\n",
       " \twith 20386 stored elements in Compressed Sparse Row format>,\n",
       " 'connectivities': <1000x1000 sparse matrix of type '<class 'numpy.float64'>'\n",
       " \twith 31456 stored elements in Compressed Sparse Row format>}"
      ]
     },
     "execution_count": 26,
     "metadata": {},
     "output_type": "execute_result"
    }
   ],
   "source": [
    "# this includes a distance matrix over all cells\n",
    "COMB_ANN.uns['neighbors']"
   ]
  },
  {
   "cell_type": "code",
   "execution_count": 29,
   "metadata": {
    "scrolled": false
   },
   "outputs": [
    {
     "data": {
      "text/plain": [
       "array([4, 4, 5, 5, 5, 5, 5, 5, 5, 5, 5, 5, 5, 5, 5, 5, 5, 5, 5, 5], dtype=int32)"
      ]
     },
     "execution_count": 29,
     "metadata": {},
     "output_type": "execute_result"
    }
   ],
   "source": [
    "rows[100:120]"
   ]
  },
  {
   "cell_type": "code",
   "execution_count": 30,
   "metadata": {},
   "outputs": [
    {
     "data": {
      "text/plain": [
       "array([868, 900,  98, 135, 172, 272, 284, 292, 359, 369, 371, 417, 506,\n",
       "       537, 615, 633, 674, 696, 770, 793], dtype=int32)"
      ]
     },
     "execution_count": 30,
     "metadata": {},
     "output_type": "execute_result"
    }
   ],
   "source": [
    "cols[100:120]"
   ]
  },
  {
   "cell_type": "code",
   "execution_count": null,
   "metadata": {},
   "outputs": [],
   "source": [
    "def get_batch(i, adata):\n",
    "    \"\"\"\n",
    "    Returns the batch number of a cell at index i in adata\n",
    "    \"\"\"\n",
    "    return int(adata.obs.index[i].split('_')[1])"
   ]
  },
  {
   "cell_type": "code",
   "execution_count": null,
   "metadata": {},
   "outputs": [],
   "source": [
    "neighbor_counts = {}  #{cell_id: #same_batch}   \n",
    "\n",
    "for x, y in zip(rows, cols):\n",
    "    try:\n",
    "        neighbor_counts[x]\n",
    "    except KeyError:\n",
    "        neighbor_counts[x] = 0\n",
    "    cell_batch = get_batch(x, COMB_ANN)\n",
    "    neigh_batch = get_batch(y, COMB_ANN)   ## what does this do? how are neighbors used?\n",
    "    if cell_batch == neigh_batch:   ## WHY?\n",
    "        neighbor_counts[x] += 1"
   ]
  },
  {
   "cell_type": "code",
   "execution_count": null,
   "metadata": {},
   "outputs": [],
   "source": [
    "(np.mean(list(neighbor_counts.values()))/n_neighbors)*n_batch"
   ]
  },
  {
   "cell_type": "markdown",
   "metadata": {},
   "source": [
    "# Summary Implementation Function\n",
    "\n",
    "This cell defines a single function to run the above analysis given a list of AnnData"
   ]
  },
  {
   "cell_type": "code",
   "execution_count": null,
   "metadata": {},
   "outputs": [],
   "source": [
    "def downsample_anndata(ad, n):\n",
    "    rand_obs = np.random.choice(list(ad.obs.index), size=n, replace=False)\n",
    "    return ad[rand_obs,:]\n",
    "\n",
    "def get_batch(i, adata):\n",
    "    \"\"\"\n",
    "    Returns the batch number of a cell at index i in adata\n",
    "    \"\"\"\n",
    "    return int(adata.obs.index[i].split('_')[1])\n",
    "\n",
    "def score_batch_corr(anns, n_neighbors):\n",
    "    min_cells = min(list(map(lambda x: x.n_obs, anns)))\n",
    "    ds_anns = list(map(lambda x: downsample_anndata(x, min_cells), anns))\n",
    "    comb_ann = ds_anns[0].concatenate(ds_anns[1:], index_unique=\"_\")\n",
    "    sc.tl.pca(comb_ann)\n",
    "    sc.pp.neighbors(comb_ann, n_neighbors=n_neighbors, knn=True)\n",
    "    rows, cols = comb_ann.uns['neighbors']['distances'].nonzero()\n",
    "    neighbor_counts = {}  #{cell_id: #same_batch}\n",
    "    for x, y in zip(rows, cols):\n",
    "        try:\n",
    "            neighbor_counts[x]\n",
    "        except KeyError:\n",
    "            neighbor_counts[x] = 0\n",
    "        cell_batch = get_batch(x, comb_ann)\n",
    "        neigh_batch = get_batch(y, comb_ann)\n",
    "        if cell_batch != neigh_batch:\n",
    "            neighbor_counts[x] += 1\n",
    "    sc.pl.pca(comb_ann, color='batch', show=True, save=False)\n",
    "    return (np.mean(list(neighbor_counts.values()))/n_neighbors)*len(anns)"
   ]
  },
  {
   "cell_type": "code",
   "execution_count": null,
   "metadata": {},
   "outputs": [],
   "source": [
    "N_NEIGHBORS = int(0.01*SENS03_B1.shape[0])\n",
    "N_NEIGHBORS = 10"
   ]
  },
  {
   "cell_type": "code",
   "execution_count": null,
   "metadata": {},
   "outputs": [],
   "source": [
    "score_batch_corr([SENS03_B1, SENS03_B2], N_NEIGHBORS)"
   ]
  },
  {
   "cell_type": "markdown",
   "metadata": {},
   "source": [
    "# Add Random Gaussian Noise To Olivier's Data"
   ]
  },
  {
   "cell_type": "code",
   "execution_count": null,
   "metadata": {},
   "outputs": [],
   "source": [
    "rows, cols = SENS03_B2.X.nonzero()\n",
    "count = 0\n",
    "for x, y in zip(rows, cols):\n",
    "\n",
    "    SENS03_B2.X[x, y] += np.random.normal(loc=50, scale=100)\n",
    "    count += 1\n",
    "    if count%100000 == 0:\n",
    "        print(float(count)/len(rows)*100)"
   ]
  },
  {
   "cell_type": "code",
   "execution_count": null,
   "metadata": {},
   "outputs": [],
   "source": [
    "score_batch_corr([SENS03_B1, SENS03_B2], N_NEIGHBORS)"
   ]
  },
  {
   "cell_type": "markdown",
   "metadata": {},
   "source": [
    "# Correct Data With Scanorama"
   ]
  },
  {
   "cell_type": "code",
   "execution_count": null,
   "metadata": {},
   "outputs": [],
   "source": [
    "SENS03_B1, SENS03_B2 = scanorama.correct_scanpy([SENS03_B1, SENS03_B2])\n",
    "score_batch_corr([SENS03_B1, SENS03_B2], N_NEIGHBORS)"
   ]
  },
  {
   "cell_type": "code",
   "execution_count": null,
   "metadata": {},
   "outputs": [],
   "source": []
  }
 ],
 "metadata": {
  "kernelspec": {
   "display_name": "Python 3.6",
   "language": "python",
   "name": "python3.6"
  },
  "language_info": {
   "codemirror_mode": {
    "name": "ipython",
    "version": 3
   },
   "file_extension": ".py",
   "mimetype": "text/x-python",
   "name": "python",
   "nbconvert_exporter": "python",
   "pygments_lexer": "ipython3",
   "version": "3.6.8"
  }
 },
 "nbformat": 4,
 "nbformat_minor": 2
}
